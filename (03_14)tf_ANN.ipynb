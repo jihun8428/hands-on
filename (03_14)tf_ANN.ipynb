{
 "cells": [
  {
   "cell_type": "markdown",
   "id": "88279cd8-9af6-423d-afe2-5d91fb790038",
   "metadata": {},
   "source": [
    "## -- tensorflow를 이용한 mnist 예제 --"
   ]
  },
  {
   "cell_type": "code",
   "execution_count": 18,
   "id": "2b17c332-e7cc-45ad-9d28-580f57eacdee",
   "metadata": {},
   "outputs": [],
   "source": [
    "import matplotlib.pyplot as plt  # 그림으로 보기 위한 matplotlib 라이브러리 import\n",
    "from tensorflow.keras.datasets import mnist  # 라이브러리가 기본으로 제공하는 mnist 데이터셋\n",
    "from tensorflow.keras.utils import to_categorical  # one-hot encoding 을 위한 함수\n",
    "from tensorflow.keras.models import Sequential  # 레이어를 층층히 쌓아가는 연쇄 모델\n",
    "from tensorflow.keras.layers import Dense  # 완전연결층\n",
    "from tensorflow.keras.models import load_model  # 저장된 모델 불러오기"
   ]
  },
  {
   "cell_type": "markdown",
   "id": "f375d822-0eae-450e-a6ca-6f38d7fd4e7c",
   "metadata": {},
   "source": [
    "### 데이터 불러오기"
   ]
  },
  {
   "cell_type": "code",
   "execution_count": 19,
   "id": "0a0b1bc3-77dd-49d6-bbd5-c6797e6441c6",
   "metadata": {},
   "outputs": [
    {
     "name": "stdout",
     "output_type": "stream",
     "text": [
      "X_train_shape: (60000, 28, 28)\n",
      "y_train_shape: (60000,)\n",
      "X_test_shape: (10000, 28, 28)\n",
      "y_test_shape: (10000,)\n"
     ]
    },
    {
     "data": {
      "image/png": "[encoded data removed]",
      "text/plain": [
       "<Figure size 432x288 with 1 Axes>"
      ]
     },
     "metadata": {
      "needs_background": "light"
     },
     "output_type": "display_data"
    }
   ],
   "source": [
    "(X_train, y_train), (X_test, y_test) = mnist.load_data()\n",
    "\n",
    "# 데이터셋 차원 확인\n",
    "print(f\"X_train_shape: {X_train.shape}\")  # X_train_shape: (60000, 28, 28)\n",
    "print(f\"y_train_shape: {y_train.shape}\")  # y_train_shape: (60000,)\n",
    "print(f\"X_test_shape: {X_test.shape}\")  # X_test_shape: (10000, 28, 28)\n",
    "print(f\"y_test_shape: {y_test.shape}\")  # y_test_shape: (10000,)\n",
    "\n",
    "plt.imshow(X_train[0])\n",
    "plt.show()"
   ]
  },
  {
   "cell_type": "markdown",
   "id": "dd64203e-f735-4a38-a74a-66829d90e231",
   "metadata": {},
   "source": [
    "### 데이터 전처리"
   ]
  },
  {
   "cell_type": "code",
   "execution_count": 20,
   "id": "c5593394-d111-4a7d-b1cc-adb63b9c0553",
   "metadata": {},
   "outputs": [
    {
     "name": "stdout",
     "output_type": "stream",
     "text": [
      "X_train_shape: (60000, 784)\n",
      "X_test_shape: (10000, 784)\n"
     ]
    }
   ],
   "source": [
    "input_shape = X_train.shape[1] * X_train.shape[2]  # 그림의 크기: 28 * 28\n",
    "number_of_classes = len(set(y_train))  # 레이블의 종류. 0~9로 10개\n",
    "\n",
    "X_train = X_train / 255.0\n",
    "X_test = X_test / 255\n",
    "X_train = X_train.reshape(-1, input_shape)  # 3차원 -> 2차원\n",
    "X_test = X_test.reshape(-1, input_shape)\n",
    "\n",
    "print(f\"X_train_shape: {X_train.shape}\")  # X_train_shape: (60000, 784)\n",
    "print(f\"X_test_shape: {X_test.shape}\")  # X_test_shape: (10000, 784)"
   ]
  },
  {
   "cell_type": "code",
   "execution_count": 22,
   "id": "70f2bdda-f253-495f-a9bb-1b949d79030a",
   "metadata": {},
   "outputs": [
    {
     "name": "stdout",
     "output_type": "stream",
     "text": [
      "y_train_shape: (60000, 10)\n",
      "y_test_shape: (10000, 10)\n"
     ]
    }
   ],
   "source": [
    "y_train = to_categorical(y_train, number_of_classes)  # 원-핫 인코딩. 1차원 -> 2차원\n",
    "y_test = to_categorical(y_test, number_of_classes)\n",
    "\n",
    "print(f\"y_train_shape: {y_train.shape}\")  # y_train_shape: (60000, 10)\n",
    "print(f\"y_test_shape: {y_test.shape}\")  # y_test_shape: (10000, 10)"
   ]
  },
  {
   "cell_type": "markdown",
   "id": "a0a1be2e-e68b-46e6-b3f7-f6f97d15019b",
   "metadata": {},
   "source": [
    "### 모델 정의 및 컴파일"
   ]
  },
  {
   "cell_type": "code",
   "execution_count": 23,
   "id": "9daa5c3d-fa47-4ebe-9f86-bed81831f5f8",
   "metadata": {},
   "outputs": [],
   "source": [
    "model = Sequential()  # 모델 선언"
   ]
  },
  {
   "cell_type": "markdown",
   "id": "966b022f-e551-4a59-ae69-0648bac06127",
   "metadata": {},
   "source": [
    "- Sequential 모델은 각 레이어에 정확히 하나의 입력 텐서와 하나의 출력 텐서가 있는 일반 레이어 스택에 적합"
   ]
  },
  {
   "cell_type": "code",
   "execution_count": 24,
   "id": "b73da66a-edee-40cb-a17b-6387a32272bc",
   "metadata": {},
   "outputs": [],
   "source": [
    "model.add(Dense(128, activation=\"relu\", input_shape=X_train.shape[1:]))"
   ]
  },
  {
   "cell_type": "code",
   "execution_count": 25,
   "id": "7ae391cf-25c9-4aa8-9e29-ccafa7b85fac",
   "metadata": {},
   "outputs": [],
   "source": [
    "model.add(Dense(y_train.shape[1], activation=\"softmax\"))\n",
    "# 출력하는 완전연결층 추가. 다중분류이므로, softmax 활성화함수 사용"
   ]
  },
  {
   "cell_type": "code",
   "execution_count": 26,
   "id": "c51ef1eb-dee4-4d46-81cb-59b3e68a693c",
   "metadata": {},
   "outputs": [
    {
     "name": "stdout",
     "output_type": "stream",
     "text": [
      "Model: \"sequential_3\"\n",
      "_________________________________________________________________\n",
      " Layer (type)                Output Shape              Param #   \n",
      "=================================================================\n",
      " dense_6 (Dense)             (None, 128)               100480    \n",
      "                                                                 \n",
      " dense_7 (Dense)             (None, 10)                1290      \n",
      "                                                                 \n",
      "=================================================================\n",
      "Total params: 101,770\n",
      "Trainable params: 101,770\n",
      "Non-trainable params: 0\n",
      "_________________________________________________________________\n"
     ]
    }
   ],
   "source": [
    "# 모델 컴파일. 다중분류이므로 categorical_crossentropy, 정확도 표기\n",
    "model.compile(loss=\"categorical_crossentropy\",\n",
    "              optimizer=\"adam\",\n",
    "              metrics=[\"acc\"])\n",
    "\n",
    "model.summary()"
   ]
  },
  {
   "cell_type": "markdown",
   "id": "e0bbc1dc-6dc9-49e7-8b57-a4e1e864c3a5",
   "metadata": {},
   "source": [
    "### 모델 학습 및 검증"
   ]
  },
  {
   "cell_type": "code",
   "execution_count": 27,
   "id": "eed06883-f523-4f1c-83a4-d2917c12f9b3",
   "metadata": {},
   "outputs": [
    {
     "name": "stdout",
     "output_type": "stream",
     "text": [
      "Epoch 1/10\n",
      "1500/1500 [==============================] - 1s 845us/step - loss: 0.2874 - acc: 0.9167 - val_loss: 0.1556 - val_acc: 0.9543\n",
      "Epoch 2/10\n",
      "1500/1500 [==============================] - 1s 790us/step - loss: 0.1281 - acc: 0.9625 - val_loss: 0.1164 - val_acc: 0.9643\n",
      "Epoch 3/10\n",
      "1500/1500 [==============================] - 1s 818us/step - loss: 0.0875 - acc: 0.9742 - val_loss: 0.1040 - val_acc: 0.9697\n",
      "Epoch 4/10\n",
      "1500/1500 [==============================] - 1s 783us/step - loss: 0.0649 - acc: 0.9804 - val_loss: 0.1019 - val_acc: 0.9698\n",
      "Epoch 5/10\n",
      "1500/1500 [==============================] - 1s 793us/step - loss: 0.0493 - acc: 0.9849 - val_loss: 0.0927 - val_acc: 0.9724\n",
      "Epoch 6/10\n",
      "1500/1500 [==============================] - 1s 816us/step - loss: 0.0389 - acc: 0.9884 - val_loss: 0.0891 - val_acc: 0.9744\n",
      "Epoch 7/10\n",
      "1500/1500 [==============================] - 1s 828us/step - loss: 0.0295 - acc: 0.9914 - val_loss: 0.0839 - val_acc: 0.9758\n",
      "Epoch 8/10\n",
      "1500/1500 [==============================] - 1s 795us/step - loss: 0.0240 - acc: 0.9931 - val_loss: 0.0923 - val_acc: 0.9750\n",
      "Epoch 9/10\n",
      "1500/1500 [==============================] - 1s 838us/step - loss: 0.0192 - acc: 0.9947 - val_loss: 0.0981 - val_acc: 0.9755\n",
      "Epoch 10/10\n",
      "1500/1500 [==============================] - 1s 816us/step - loss: 0.0168 - acc: 0.9950 - val_loss: 0.0984 - val_acc: 0.9767\n",
      "313/313 [==============================] - 0s 809us/step - loss: 0.0791 - acc: 0.9787\n",
      "손실률: 0.07909750938415527\n",
      "정확도: 0.9786999821662903\n"
     ]
    }
   ],
   "source": [
    "history = model.fit(X_train, y_train, batch_size=32, epochs=10, validation_split=0.2)\n",
    "loss, acc = model.evaluate(X_test, y_test)\n",
    "print(\"손실률:\", loss)\n",
    "print(\"정확도:\", acc) "
   ]
  },
  {
   "cell_type": "markdown",
   "id": "8bd28470-26f8-4dfc-982e-1bf29f120b96",
   "metadata": {},
   "source": [
    "### 학습 시각화"
   ]
  },
  {
   "cell_type": "code",
   "execution_count": 31,
   "id": "78ff4406-0a1b-4f37-a4e1-e27c602c5bbb",
   "metadata": {},
   "outputs": [
    {
     "data": {
      "image/png": "[encoded data removed]",
      "text/plain": [
       "<Figure size 1296x432 with 2 Axes>"
      ]
     },
     "metadata": {
      "needs_background": "light"
     },
     "output_type": "display_data"
    }
   ],
   "source": [
    "plt.figure(figsize=(18, 6))\n",
    "\n",
    "# 에포크별 정확도\n",
    "plt.subplot(1,2,1)\n",
    "plt.plot(history.history[\"acc\"], label=\"accuracy\")\n",
    "plt.plot(history.history[\"val_acc\"], label=\"val_accuracy\")\n",
    "plt.title(\"accuracy\")\n",
    "plt.legend()\n",
    "\n",
    "# 에포크별 손실률\n",
    "plt.subplot(1,2,2)\n",
    "plt.plot(history.history[\"loss\"], label=\"loss\")\n",
    "plt.plot(history.history[\"val_loss\"], label=\"val_loss\")\n",
    "plt.title(\"loss\")\n",
    "plt.legend()\n",
    "\n",
    "plt.show()"
   ]
  },
  {
   "cell_type": "markdown",
   "id": "51561182-4d28-4134-8e37-da36164c111f",
   "metadata": {},
   "source": [
    "- 정확도가 떨어지며 손실은 계속 늘어나게 되면 그 모델은 학습셋에면 너무 과하게 학습한 과적합 상태라고 할 수 있음"
   ]
  },
  {
   "cell_type": "markdown",
   "id": "4305d1e2-8650-4ef7-8d26-0c511670d404",
   "metadata": {},
   "source": [
    "### 모델 저장 및 불러오기"
   ]
  },
  {
   "cell_type": "code",
   "execution_count": 33,
   "id": "ede20b39-721a-492f-b977-69693247964f",
   "metadata": {},
   "outputs": [],
   "source": [
    "model.save(\"C:/Users/jihun/jupyterlab/datasets/mnist.h5\")\n",
    "loaded_model = load_model(\"C:/Users/jihun/jupyterlab/datasets/mnist.h5\")"
   ]
  },
  {
   "cell_type": "code",
   "execution_count": null,
   "id": "cf1be34a-b8e6-4ac0-a147-17bacbc3c5e5",
   "metadata": {},
   "outputs": [],
   "source": []
  }
 ],
 "metadata": {
  "kernelspec": {
   "display_name": "Python 3 (ipykernel)",
   "language": "python",
   "name": "python3"
  },
  "language_info": {
   "codemirror_mode": {
    "name": "ipython",
    "version": 3
   },
   "file_extension": ".py",
   "mimetype": "text/x-python",
   "name": "python",
   "nbconvert_exporter": "python",
   "pygments_lexer": "ipython3",
   "version": "3.9.7"
  }
 },
 "nbformat": 4,
 "nbformat_minor": 5
}
