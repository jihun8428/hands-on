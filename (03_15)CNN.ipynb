{
 "cells": [
  {
   "cell_type": "code",
   "execution_count": 8,
   "id": "99e5909f-12a8-4186-aecf-0029db677a4c",
   "metadata": {},
   "outputs": [],
   "source": [
    "import keras\n",
    "from keras.models import Sequential\n",
    "from keras.layers import Dense, Dropout, Flatten\n",
    "from keras.layers.convolutional import Conv2D, MaxPooling2D\n",
    "import numpy as np\n",
    "np.random.seed(42)"
   ]
  },
  {
   "cell_type": "code",
   "execution_count": 9,
   "id": "84c4c0ae-bc55-4669-a820-ac993861c5a6",
   "metadata": {},
   "outputs": [],
   "source": [
    "img_rows = 28\n",
    "img_cols = 28\n",
    "\n",
    "(x_train, y_train), (x_test, y_test) = keras.datasets.mnist.load_data()"
   ]
  },
  {
   "cell_type": "code",
   "execution_count": 12,
   "id": "267b5379-b5fa-4165-a39f-16e20f9f77c4",
   "metadata": {},
   "outputs": [],
   "source": [
    "input_shape = (img_rows, img_cols, 1)\n",
    "x_train = x_train.reshape(x_train.shape[0], img_rows, img_cols, 1)\n",
    "x_test = x_test.reshape(x_test.shape[0], img_rows, img_cols, 1)"
   ]
  },
  {
   "cell_type": "code",
   "execution_count": 14,
   "id": "f7f55390-3d3a-461d-b2d5-ae0c7b8bbf72",
   "metadata": {},
   "outputs": [
    {
     "name": "stdout",
     "output_type": "stream",
     "text": [
      "x_train shape: (60000, 28, 28, 1)\n",
      "60000 train samples\n",
      "10000 test samples\n"
     ]
    }
   ],
   "source": [
    "x_train = x_train.astype('float32') / 255.\n",
    "x_test = x_test.astype('float32') / 255.\n",
    "\n",
    "print('x_train shape:', x_train.shape)\n",
    "print(x_train.shape[0], 'train samples')\n",
    "print(x_test.shape[0], 'test samples')"
   ]
  },
  {
   "cell_type": "code",
   "execution_count": 16,
   "id": "9672503a-0c1e-4bc2-8f24-554a95ecc1a5",
   "metadata": {},
   "outputs": [],
   "source": [
    "from keras.utils import np_utils\n",
    "\n",
    "num_classes = 10\n",
    "y_train = keras.utils.np_utils.to_categorical(y_train, num_classes)\n",
    "y_test = keras.utils.np_utils.to_categorical(y_test, num_classes)"
   ]
  },
  {
   "cell_type": "code",
   "execution_count": 18,
   "id": "7b71a2af-ea9a-4f50-893c-a5d1b3882bf9",
   "metadata": {},
   "outputs": [
    {
     "name": "stdout",
     "output_type": "stream",
     "text": [
      "Model: \"sequential\"\n",
      "_________________________________________________________________\n",
      " Layer (type)                Output Shape              Param #   \n",
      "=================================================================\n",
      " conv2d (Conv2D)             (None, 28, 28, 32)        832       \n",
      "                                                                 \n",
      " max_pooling2d (MaxPooling2D  (None, 14, 14, 32)       0         \n",
      " )                                                               \n",
      "                                                                 \n",
      " conv2d_1 (Conv2D)           (None, 14, 14, 64)        8256      \n",
      "                                                                 \n",
      " max_pooling2d_1 (MaxPooling  (None, 7, 7, 64)         0         \n",
      " 2D)                                                             \n",
      "                                                                 \n",
      " dropout (Dropout)           (None, 7, 7, 64)          0         \n",
      "                                                                 \n",
      " flatten (Flatten)           (None, 3136)              0         \n",
      "                                                                 \n",
      " dense (Dense)               (None, 1000)              3137000   \n",
      "                                                                 \n",
      " dropout_1 (Dropout)         (None, 1000)              0         \n",
      "                                                                 \n",
      " dense_1 (Dense)             (None, 10)                10010     \n",
      "                                                                 \n",
      "=================================================================\n",
      "Total params: 3,156,098\n",
      "Trainable params: 3,156,098\n",
      "Non-trainable params: 0\n",
      "_________________________________________________________________\n"
     ]
    }
   ],
   "source": [
    "model = Sequential()\n",
    "model.add(Conv2D(32, kernel_size=(5, 5), strides=(1, 1), padding='same', activation='relu', input_shape=input_shape))\n",
    "model.add(MaxPooling2D(pool_size=(2, 2), strides=(2, 2)))\n",
    "model.add(Conv2D(64, (2, 2), activation='relu', padding='same'))\n",
    "model.add(MaxPooling2D(pool_size=(2, 2)))\n",
    "model.add(Dropout(0.25))\n",
    "model.add(Flatten())\n",
    "model.add(Dense(1000, activation='relu'))\n",
    "model.add(Dropout(0.5))\n",
    "model.add(Dense(num_classes, activation='softmax'))\n",
    "model.summary()\n",
    "\n",
    "model.compile(loss='categorical_crossentropy', optimizer='adam', metrics=['accuracy'])"
   ]
  },
  {
   "cell_type": "code",
   "execution_count": 19,
   "id": "f1e2ea72-a910-4264-8dba-09e5fa8f39cd",
   "metadata": {},
   "outputs": [
    {
     "name": "stdout",
     "output_type": "stream",
     "text": [
      "Epoch 1/10\n",
      "938/938 [==============================] - 28s 30ms/step - loss: 0.7632 - accuracy: 0.7499 - val_loss: 0.2884 - val_accuracy: 0.9131\n",
      "Epoch 2/10\n",
      "938/938 [==============================] - 29s 31ms/step - loss: 0.3629 - accuracy: 0.8830 - val_loss: 0.2265 - val_accuracy: 0.9326\n",
      "Epoch 3/10\n",
      "938/938 [==============================] - 30s 32ms/step - loss: 0.3010 - accuracy: 0.9036 - val_loss: 0.1829 - val_accuracy: 0.9449\n",
      "Epoch 4/10\n",
      "938/938 [==============================] - 30s 32ms/step - loss: 0.2549 - accuracy: 0.9186 - val_loss: 0.1555 - val_accuracy: 0.9519\n",
      "Epoch 5/10\n",
      "938/938 [==============================] - 31s 33ms/step - loss: 0.2198 - accuracy: 0.9295 - val_loss: 0.1260 - val_accuracy: 0.9612\n",
      "Epoch 6/10\n",
      "938/938 [==============================] - 30s 32ms/step - loss: 0.1925 - accuracy: 0.9389 - val_loss: 0.1114 - val_accuracy: 0.9659\n",
      "Epoch 7/10\n",
      "938/938 [==============================] - 30s 32ms/step - loss: 0.1683 - accuracy: 0.9464 - val_loss: 0.0949 - val_accuracy: 0.9711\n",
      "Epoch 8/10\n",
      "938/938 [==============================] - 31s 33ms/step - loss: 0.1498 - accuracy: 0.9522 - val_loss: 0.0841 - val_accuracy: 0.9727\n",
      "Epoch 9/10\n",
      "938/938 [==============================] - 31s 33ms/step - loss: 0.1330 - accuracy: 0.9579 - val_loss: 0.0755 - val_accuracy: 0.9755\n",
      "Epoch 10/10\n",
      "938/938 [==============================] - 31s 33ms/step - loss: 0.1215 - accuracy: 0.9613 - val_loss: 0.0747 - val_accuracy: 0.9763\n",
      "Test loss: 0.07467049360275269\n",
      "Test accuracy: 0.9763000011444092\n"
     ]
    }
   ],
   "source": [
    "model.compile(loss='categorical_crossentropy', optimizer='adam', metrics=['accuracy'])\n",
    "hist = model.fit(x_train, y_train, batch_size=64, epochs=10, verbose=1, validation_data=(x_test, y_test))\n",
    "\n",
    "score = model.evaluate(x_test, y_test, verbose=0)\n",
    "print('Test loss:', score[0])\n",
    "print('Test accuracy:', score[1])"
   ]
  },
  {
   "cell_type": "code",
   "execution_count": null,
   "id": "6eb942dc-d219-4c64-804b-530035e25355",
   "metadata": {},
   "outputs": [],
   "source": []
  },
  {
   "cell_type": "code",
   "execution_count": null,
   "id": "1abb5a25-c082-44e9-9827-ab7cbe0a2b94",
   "metadata": {},
   "outputs": [],
   "source": []
  }
 ],
 "metadata": {
  "kernelspec": {
   "display_name": "Python 3 (ipykernel)",
   "language": "python",
   "name": "python3"
  },
  "language_info": {
   "codemirror_mode": {
    "name": "ipython",
    "version": 3
   },
   "file_extension": ".py",
   "mimetype": "text/x-python",
   "name": "python",
   "nbconvert_exporter": "python",
   "pygments_lexer": "ipython3",
   "version": "3.9.7"
  }
 },
 "nbformat": 4,
 "nbformat_minor": 5
}
